{
 "cells": [
  {
   "cell_type": "code",
   "execution_count": 1,
   "metadata": {},
   "outputs": [],
   "source": [
    "import math\n",
    "import numpy as np\n",
    "from stl import mesh\n",
    "import pandas as pd"
   ]
  },
  {
   "cell_type": "code",
   "execution_count": 2,
   "metadata": {},
   "outputs": [
    {
     "name": "stdout",
     "output_type": "stream",
     "text": [
      "5919 11838\n"
     ]
    }
   ],
   "source": [
    "# Read in mesh\n",
    "test_vessel = list(mesh.Mesh.from_file(\"testvessel.stl\"))\n",
    "# Process mesh so that it is in the form of points[] and connectivity[]\n",
    "\n",
    "# Create list of points, represented as a DataFrame\n",
    "# points_list = pd.DataFrame(index = range(1), columns = range(3))\n",
    "# connectivity_list = pd.DataFrame(index = range(len(test_vessel), columns = range(3)))\n",
    "points_list = []\n",
    "connectivity_list = []\n",
    "for triangle in test_vessel:\n",
    "        pt1 = list(triangle[0:3]) # [x, y, z]\n",
    "        pt2 = list(triangle[3:6])\n",
    "        pt3 = list(triangle[6:9])\n",
    "        if pt1 not in points_list:\n",
    "                points_list.append(pt1)\n",
    "        if pt2 not in points_list:\n",
    "                points_list.append(pt2)\n",
    "        if pt3 not in points_list:\n",
    "                points_list.append(pt3)\n",
    "\n",
    "        connectivity_list.append([points_list.index(pt1), points_list.index(pt2), points_list.index(pt3)])\n",
    "print(len(points_list), len(connectivity_list))"
   ]
  },
  {
   "cell_type": "code",
   "execution_count": 3,
   "metadata": {},
   "outputs": [],
   "source": [
    "# Bounding box\n",
    "\n",
    "x_max = -1 * float(\"inf\")\n",
    "x_min = float(\"inf\")\n",
    "y_max = -1 * float(\"inf\")\n",
    "y_min = float(\"inf\")\n",
    "z_max = -1 * float(\"inf\")\n",
    "z_min = float(\"inf\")\n",
    "\n",
    "for i in range(0, len(points_list)):\n",
    "        x = points_list[i][0]\n",
    "        y = points_list[i][1]\n",
    "        z = points_list[i][2]\n",
    "        x_max = max(x, x_max)\n",
    "        x_min = min(x, x_min)\n",
    "        y_max = max(y, y_max)\n",
    "        y_min = min(y, y_min)\n",
    "        z_max = max(z, z_max)\n",
    "        z_min = min(z, z_min)\n",
    "\n",
    "points_rows = len(points_list) - 1\n",
    "# Create coordinates of bounding box\n",
    "box_points = [[x_min, y_min, z_min], \n",
    "[x_min, y_min, z_max], \n",
    "[x_min, y_max, z_min], \n",
    "[x_min, y_max, z_max], \n",
    "[x_max, y_min, z_min],\n",
    "[x_max, y_min, z_max], \n",
    "[x_max, y_max, z_min], \n",
    "[x_max, y_max, z_max]]\n",
    "for i in range(0, len(box_points)):\n",
    "        points_list.append(box_points[i])\n",
    "\n",
    "box_connectivity = [[5 + points_rows, 1 + points_rows, 6 + points_rows], \n",
    "[2 + points_rows, 1 + points_rows, 6 + points_rows], \n",
    "[4 + points_rows, 2 + points_rows, 6 + points_rows],\n",
    "[6 + points_rows, 4 + points_rows, 8 + points_rows],\n",
    "[6 + points_rows, 5 + points_rows, 7 + points_rows],\n",
    "[7 + points_rows, 6 + points_rows, 8 + points_rows],\n",
    "[3 + points_rows, 1 + points_rows, 5 + points_rows], \n",
    "[5 + points_rows, 3 + points_rows, 7 + points_rows],\n",
    "[2 + points_rows, 1 + points_rows, 3 + points_rows],\n",
    "[3 + points_rows, 2 + points_rows, 4 + points_rows],\n",
    "[4 + points_rows, 3 + points_rows, 8 + points_rows],\n",
    "[7 + points_rows, 3 + points_rows, 8 + points_rows]]\n",
    "for i in range(0, len(box_connectivity)):\n",
    "        connectivity_list.append(box_connectivity[i])\n",
    "\n",
    "\n",
    "# Write new stl file for bounding box\n",
    "\n",
    "# case points and connectivity to numpy arrays\n",
    "points_arr = np.array(points_list)\n",
    "connectivity_arr = np.array(connectivity_list)\n",
    "\n",
    "with_box = mesh.Mesh(np.zeros(connectivity_arr.shape[0], dtype=mesh.Mesh.dtype))\n",
    "for i, f in enumerate(connectivity_arr):\n",
    "        # print(f)\n",
    "        for j in range(3):\n",
    "                # print(f[j])\n",
    "                with_box.vectors[i][j] = points_arr[f[j], :]\n",
    "with_box.save(\"withboxpython.stl\")"
   ]
  },
  {
   "cell_type": "code",
   "execution_count": 25,
   "metadata": {},
   "outputs": [],
   "source": []
  },
  {
   "cell_type": "code",
   "execution_count": null,
   "metadata": {},
   "outputs": [],
   "source": []
  }
 ],
 "metadata": {
  "kernelspec": {
   "display_name": "Python 3",
   "language": "python",
   "name": "python3"
  },
  "language_info": {
   "codemirror_mode": {
    "name": "ipython",
    "version": 3
   },
   "file_extension": ".py",
   "mimetype": "text/x-python",
   "name": "python",
   "nbconvert_exporter": "python",
   "pygments_lexer": "ipython3",
   "version": "3.8.6"
  },
  "orig_nbformat": 4,
  "vscode": {
   "interpreter": {
    "hash": "96363b657a3b9662d4d0ac72eb3c704a920ef105190b4162d194d01fed7ad3f4"
   }
  }
 },
 "nbformat": 4,
 "nbformat_minor": 2
}
